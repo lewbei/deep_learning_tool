{
 "cells": [
  {
   "cell_type": "code",
   "execution_count": 8,
   "id": "ae3ed0ba-c22c-48bd-afdd-f002bfcc9a2c",
   "metadata": {},
   "outputs": [
    {
     "name": "stdout",
     "output_type": "stream",
     "text": [
      "Dataset split and copying completed.\n"
     ]
    }
   ],
   "source": [
    "import os\n",
    "import shutil\n",
    "import random\n",
    "\n",
    "# Define paths\n",
    "base_dir = r'C:\\Users\\lewka\\Downloads\\archive\\Data'\n",
    "train_image_dir = os.path.join(base_dir, 'train', 'image')\n",
    "train_mask_dir = os.path.join(base_dir, 'train', 'mask')\n",
    "test_image_dir = os.path.join(base_dir, 'test', 'image')\n",
    "test_mask_dir = os.path.join(base_dir, 'test', 'mask')\n",
    "\n",
    "# New dataset paths\n",
    "dl_folder = os.path.join(os.path.dirname(base_dir), 'dl_data')\n",
    "new_train_image_dir = os.path.join(dl_folder, 'train', 'image')\n",
    "new_train_mask_dir = os.path.join(dl_folder, 'train', 'mask')\n",
    "new_val_image_dir = os.path.join(dl_folder, 'val', 'image')\n",
    "new_val_mask_dir = os.path.join(dl_folder, 'val', 'mask')\n",
    "new_test_image_dir = os.path.join(dl_folder, 'test', 'image')\n",
    "new_test_mask_dir = os.path.join(dl_folder, 'test', 'mask')\n",
    "\n",
    "# Create new directories if they don't exist\n",
    "os.makedirs(new_train_image_dir, exist_ok=True)\n",
    "os.makedirs(new_train_mask_dir, exist_ok=True)\n",
    "os.makedirs(new_val_image_dir, exist_ok=True)\n",
    "os.makedirs(new_val_mask_dir, exist_ok=True)\n",
    "os.makedirs(new_test_image_dir, exist_ok=True)\n",
    "os.makedirs(new_test_mask_dir, exist_ok=True)\n",
    "\n",
    "# Copy test files to new test directory\n",
    "shutil.copytree(test_image_dir, new_test_image_dir, dirs_exist_ok=True)\n",
    "shutil.copytree(test_mask_dir, new_test_mask_dir, dirs_exist_ok=True)\n",
    "\n",
    "# List all files in the train/image directory\n",
    "all_image_files = os.listdir(train_image_dir)\n",
    "image_files = [f for f in all_image_files if f.endswith(('.png', '.jpg', '.jpeg'))]\n",
    "\n",
    "# Shuffle and split the files\n",
    "random.shuffle(image_files)\n",
    "split_index = int(0.8 * len(image_files))  # 80% for training, 20% for validation\n",
    "train_files = image_files[:split_index]\n",
    "val_files = image_files[split_index:]\n",
    "\n",
    "# Copy files to the new directories\n",
    "for file in train_files:\n",
    "    shutil.copy(os.path.join(train_image_dir, file), os.path.join(new_train_image_dir, file))\n",
    "    shutil.copy(os.path.join(train_mask_dir, file), os.path.join(new_train_mask_dir, file))\n",
    "\n",
    "for file in val_files:\n",
    "    shutil.copy(os.path.join(train_image_dir, file), os.path.join(new_val_image_dir, file))\n",
    "    shutil.copy(os.path.join(train_mask_dir, file), os.path.join(new_val_mask_dir, file))\n",
    "\n",
    "print(\"Dataset split and copying completed.\")"
   ]
  },
  {
   "cell_type": "code",
   "execution_count": null,
   "id": "b8c20487-1f16-46c2-b9aa-356e3bd72fd2",
   "metadata": {},
   "outputs": [],
   "source": []
  }
 ],
 "metadata": {
  "kernelspec": {
   "display_name": "Python 3 (ipykernel)",
   "language": "python",
   "name": "python3"
  },
  "language_info": {
   "codemirror_mode": {
    "name": "ipython",
    "version": 3
   },
   "file_extension": ".py",
   "mimetype": "text/x-python",
   "name": "python",
   "nbconvert_exporter": "python",
   "pygments_lexer": "ipython3",
   "version": "3.11.5"
  }
 },
 "nbformat": 4,
 "nbformat_minor": 5
}
