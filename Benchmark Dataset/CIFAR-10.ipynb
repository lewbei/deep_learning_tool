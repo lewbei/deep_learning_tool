{
 "cells": [
  {
   "cell_type": "code",
   "execution_count": 8,
   "id": "1cd6bb01-6763-41d7-b0dc-1c41f9e9295d",
   "metadata": {},
   "outputs": [
    {
     "name": "stderr",
     "output_type": "stream",
     "text": [
      "\n",
      "KeyboardInterrupt\n",
      "\n"
     ]
    }
   ],
   "source": [
    "import os\n",
    "import pickle\n",
    "import numpy as np\n",
    "from PIL import Image\n",
    "\n",
    "# CIFAR-10 class names\n",
    "CIFAR10_CLASSES = [\n",
    "    'airplane', 'automobile', 'bird', 'cat', 'deer',\n",
    "    'dog', 'frog', 'horse', 'ship', 'truck'\n",
    "]\n",
    "\n",
    "def load_cifar10_batch(filename):\n",
    "    with open(filename, 'rb') as f:\n",
    "        dict = pickle.load(f, encoding='bytes')\n",
    "    images = dict[b'data']\n",
    "    labels = dict[b'labels']\n",
    "    images = images.reshape(len(images), 3, 32, 32).transpose(0, 2, 3, 1)\n",
    "    return images, labels\n",
    "\n",
    "def save_images(images, labels, path='images'):\n",
    "    if not os.path.exists(path):\n",
    "        os.makedirs(path)\n",
    "    for i, (image, label) in enumerate(zip(images, labels)):\n",
    "        class_name = CIFAR10_CLASSES[label]\n",
    "        class_path = os.path.join(path, class_name)\n",
    "        if not os.path.exists(class_path):\n",
    "            os.makedirs(class_path)\n",
    "        img = Image.fromarray(image)\n",
    "        img.save(os.path.join(class_path, f'image_{i}.png'))\n",
    "\n",
    "def check_cifar10_folder(folder_path):\n",
    "    batch_files = [os.path.join(folder_path, f'data_batch_{i}') for i in range(1, 6)]\n",
    "    if all(os.path.exists(file) for file in batch_files):\n",
    "        return batch_files\n",
    "    else:\n",
    "        return None\n",
    "\n",
    "def process_cifar10_folder(cifar10_folder, output_subfolder='images'):\n",
    "    batch_files = check_cifar10_folder(cifar10_folder)\n",
    "\n",
    "    if batch_files:\n",
    "        all_images = []\n",
    "        all_labels = []\n",
    "        for batch_file in batch_files:\n",
    "            images, labels = load_cifar10_batch(batch_file)\n",
    "            all_images.append(images)\n",
    "            all_labels.append(labels)\n",
    "        \n",
    "        all_images = np.concatenate(all_images)\n",
    "        all_labels = np.concatenate(all_labels)\n",
    "        \n",
    "        # Determine the output path within the CIFAR-10 folder\n",
    "        output_path = os.path.join(cifar10_folder, output_subfolder)\n",
    "        \n",
    "        # Save all images\n",
    "        save_images(all_images, all_labels, path=output_path)\n",
    "        \n",
    "        # Print all labels\n",
    "        print(all_labels)\n",
    "    else:\n",
    "        print(\"CIFAR-10 files not found in the specified folder.\")\n",
    "\n",
    "# Path to the CIFAR-10 folder\n",
    "cifar10_folder = r'C:\\Users\\lewka\\Downloads\\cifar-10-python\\cifar-10-batches-py'\n",
    "\n",
    "# Process the CIFAR-10 folder\n",
    "process_cifar10_folder(cifar10_folder)"
   ]
  },
  {
   "cell_type": "code",
   "execution_count": null,
   "id": "66908890-a668-469e-9790-c8989638729c",
   "metadata": {},
   "outputs": [],
   "source": []
  }
 ],
 "metadata": {
  "kernelspec": {
   "display_name": "Python 3 (ipykernel)",
   "language": "python",
   "name": "python3"
  },
  "language_info": {
   "codemirror_mode": {
    "name": "ipython",
    "version": 3
   },
   "file_extension": ".py",
   "mimetype": "text/x-python",
   "name": "python",
   "nbconvert_exporter": "python",
   "pygments_lexer": "ipython3",
   "version": "3.11.5"
  }
 },
 "nbformat": 4,
 "nbformat_minor": 5
}
