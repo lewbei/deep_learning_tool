{
 "cells": [
  {
   "cell_type": "code",
   "execution_count": 2,
   "id": "2a666c8b-f8a2-436c-a4a7-67ee0c409c36",
   "metadata": {},
   "outputs": [
    {
     "name": "stderr",
     "output_type": "stream",
     "text": [
      "\n",
      "KeyboardInterrupt\n",
      "\n"
     ]
    }
   ],
   "source": [
    "import os\n",
    "import pickle\n",
    "import numpy as np\n",
    "from PIL import Image\n",
    "\n",
    "# CIFAR-100 class names\n",
    "def load_cifar100_meta(filename):\n",
    "    with open(filename, 'rb') as f:\n",
    "        dict = pickle.load(f, encoding='bytes')\n",
    "    return [label.decode('utf-8') for label in dict[b'fine_label_names']]\n",
    "\n",
    "def load_cifar100_batch(filename):\n",
    "    with open(filename, 'rb') as f:\n",
    "        dict = pickle.load(f, encoding='bytes')\n",
    "    images = dict[b'data']\n",
    "    labels = dict[b'fine_labels']  # Use fine labels for CIFAR-100\n",
    "    images = images.reshape(len(images), 3, 32, 32).transpose(0, 2, 3, 1)\n",
    "    return images, labels\n",
    "\n",
    "def save_images(images, labels, class_names, path='images', prefix='image'):\n",
    "    if not os.path.exists(path):\n",
    "        os.makedirs(path)\n",
    "    for i, (image, label) in enumerate(zip(images, labels)):\n",
    "        class_name = class_names[label]\n",
    "        class_path = os.path.join(path, class_name)\n",
    "        if not os.path.exists(class_path):\n",
    "            os.makedirs(class_path)\n",
    "        img = Image.fromarray(image)\n",
    "        img.save(os.path.join(class_path, f'{prefix}_{i}.png'))\n",
    "\n",
    "def check_cifar100_folder(folder_path):\n",
    "    train_file = os.path.join(folder_path, 'train')\n",
    "    test_file = os.path.join(folder_path, 'test')\n",
    "    meta_file = os.path.join(folder_path, 'meta')\n",
    "    if os.path.exists(train_file) and os.path.exists(test_file) and os.path.exists(meta_file):\n",
    "        return train_file, test_file, meta_file\n",
    "    else:\n",
    "        return None, None, None\n",
    "\n",
    "def process_cifar100_folder(cifar100_folder):\n",
    "    train_file, test_file, meta_file = check_cifar100_folder(cifar100_folder)\n",
    "\n",
    "    if train_file and test_file and meta_file:\n",
    "        # Load class names\n",
    "        class_names = load_cifar100_meta(meta_file)\n",
    "        \n",
    "        # Load training data\n",
    "        train_images, train_labels = load_cifar100_batch(train_file)\n",
    "        \n",
    "        # Load test data\n",
    "        test_images, test_labels = load_cifar100_batch(test_file)\n",
    "        \n",
    "        # Combine training and test data\n",
    "        all_images = np.concatenate((train_images, test_images))\n",
    "        all_labels = np.concatenate((train_labels, test_labels))\n",
    "        \n",
    "        # Determine the output path within the CIFAR-100 folder\n",
    "        output_path = os.path.join(cifar100_folder, 'images')\n",
    "        \n",
    "        # Save all images\n",
    "        save_images(all_images, all_labels, class_names, path=output_path)\n",
    "        \n",
    "        # Print all labels\n",
    "        print(all_labels)\n",
    "    else:\n",
    "        print(\"CIFAR-100 files not found in the specified folder.\")\n",
    "\n",
    "# Path to the CIFAR-100 folder\n",
    "cifar100_folder = r'C:\\Users\\lewka\\Downloads\\cifar-100-python\\cifar-100-python'\n",
    "\n",
    "# Process the CIFAR-100 folder\n",
    "process_cifar100_folder(cifar100_folder)"
   ]
  },
  {
   "cell_type": "code",
   "execution_count": null,
   "id": "527d4716-39ad-4604-9ebb-f135cbf7b75b",
   "metadata": {},
   "outputs": [],
   "source": []
  }
 ],
 "metadata": {
  "kernelspec": {
   "display_name": "Python 3 (ipykernel)",
   "language": "python",
   "name": "python3"
  },
  "language_info": {
   "codemirror_mode": {
    "name": "ipython",
    "version": 3
   },
   "file_extension": ".py",
   "mimetype": "text/x-python",
   "name": "python",
   "nbconvert_exporter": "python",
   "pygments_lexer": "ipython3",
   "version": "3.11.5"
  }
 },
 "nbformat": 4,
 "nbformat_minor": 5
}
