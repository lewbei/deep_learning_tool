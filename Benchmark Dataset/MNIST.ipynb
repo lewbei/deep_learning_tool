{
 "cells": [
  {
   "cell_type": "code",
   "execution_count": 1,
   "id": "e97b3cfd-d98e-415e-bb38-3cc73bd3d559",
   "metadata": {},
   "outputs": [
    {
     "name": "stderr",
     "output_type": "stream",
     "text": [
      "\n",
      "KeyboardInterrupt\n",
      "\n"
     ]
    }
   ],
   "source": [
    "import numpy as np\n",
    "import struct\n",
    "from PIL import Image\n",
    "import os\n",
    "\n",
    "def read_idx(filename):\n",
    "    with open(filename, 'rb') as f:\n",
    "        zero, data_type, dims = struct.unpack('>HBB', f.read(4))\n",
    "        shape = tuple(struct.unpack('>I', f.read(4))[0] for d in range(dims))\n",
    "        return np.frombuffer(f.read(), dtype=np.uint8).reshape(shape)\n",
    "\n",
    "def save_images(images, labels, path='images', prefix='image'):\n",
    "    if not os.path.exists(path):\n",
    "        os.makedirs(path)\n",
    "    for i, (image, label) in enumerate(zip(images, labels)):\n",
    "        class_name = str(label)\n",
    "        class_path = os.path.join(path, class_name)\n",
    "        if not os.path.exists(class_path):\n",
    "            os.makedirs(class_path)\n",
    "        img = Image.fromarray(image)\n",
    "        img.save(os.path.join(class_path, f'{prefix}_{i}.png'))\n",
    "\n",
    "def check_mnist_folder(folder_path):\n",
    "    images_file = os.path.join(folder_path, 'train-images.idx3-ubyte')\n",
    "    labels_file = os.path.join(folder_path, 'train-labels.idx1-ubyte')\n",
    "    if os.path.exists(images_file) and os.path.exists(labels_file):\n",
    "        return images_file, labels_file\n",
    "    else:\n",
    "        return None, None\n",
    "\n",
    "def process_mnist_folder(mnist_folder):\n",
    "    images_path, labels_path = check_mnist_folder(mnist_folder)\n",
    "\n",
    "    if images_path and labels_path:\n",
    "        images = read_idx(images_path)\n",
    "        labels = read_idx(labels_path)\n",
    "        \n",
    "        # Determine the output path within the MNIST folder\n",
    "        output_path = os.path.join(mnist_folder, 'images')\n",
    "        \n",
    "        # Save all images\n",
    "        save_images(images, labels, path=output_path)\n",
    "        \n",
    "        # Print all labels\n",
    "        print(labels)\n",
    "    else:\n",
    "        print(\"MNIST files not found in the specified folder.\")\n",
    "\n",
    "# Path to the MNIST folder\n",
    "mnist_folder = r'C:\\Users\\lewka\\Downloads\\archive'\n",
    "\n",
    "# Process the MNIST folder\n",
    "process_mnist_folder(mnist_folder)"
   ]
  },
  {
   "cell_type": "code",
   "execution_count": null,
   "id": "bc16ab24-3e99-4ba0-9b9c-8b043c43c953",
   "metadata": {},
   "outputs": [],
   "source": []
  }
 ],
 "metadata": {
  "kernelspec": {
   "display_name": "Python 3 (ipykernel)",
   "language": "python",
   "name": "python3"
  },
  "language_info": {
   "codemirror_mode": {
    "name": "ipython",
    "version": 3
   },
   "file_extension": ".py",
   "mimetype": "text/x-python",
   "name": "python",
   "nbconvert_exporter": "python",
   "pygments_lexer": "ipython3",
   "version": "3.11.5"
  }
 },
 "nbformat": 4,
 "nbformat_minor": 5
}
