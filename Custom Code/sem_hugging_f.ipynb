{
 "cells": [
  {
   "cell_type": "code",
   "execution_count": null,
   "id": "9c87a5b3-690d-49a7-9724-f65a2ef3789d",
   "metadata": {},
   "outputs": [],
   "source": [
    "from datasets import load_dataset,config\n",
    "import os\n",
    "from PIL import Image\n",
    "import numpy as np"
   ]
  },
  {
   "cell_type": "code",
   "execution_count": null,
   "id": "23d8f230-5055-428c-b901-4ae1d763b65c",
   "metadata": {},
   "outputs": [],
   "source": [
    "config.HF_DATASETS_CACHE =r'the place where u want to store your cache' #remove these if u dont want\n",
    "print(config.HF_DATASETS_CACHE)"
   ]
  },
  {
   "cell_type": "code",
   "execution_count": null,
   "id": "4e7a6fbb-4bbf-415f-b239-609011674f73",
   "metadata": {
    "scrolled": true
   },
   "outputs": [],
   "source": [
    "ds = load_dataset(\"hasangoni/Electron_microscopy_dataset\")"
   ]
  },
  {
   "cell_type": "code",
   "execution_count": null,
   "id": "51bc4000-7b38-4cbc-abda-047c73fa3d1a",
   "metadata": {},
   "outputs": [],
   "source": [
    "print(ds)"
   ]
  },
  {
   "cell_type": "code",
   "execution_count": null,
   "id": "139f69cd-024e-44bc-9143-c936a0601352",
   "metadata": {},
   "outputs": [],
   "source": [
    "# Define directories for saving images and labels\n",
    "base_dir = r'your dataset'\n",
    "train_images_dir = os.path.join(base_dir, 'train', 'images')\n",
    "train_labels_dir = os.path.join(base_dir, 'train', 'labels')\n",
    "test_images_dir = os.path.join(base_dir, 'test', 'images')\n",
    "test_labels_dir = os.path.join(base_dir, 'test', 'labels')\n",
    "\n",
    "# Create directories if they do not exist\n",
    "os.makedirs(train_images_dir, exist_ok=True)\n",
    "os.makedirs(train_labels_dir, exist_ok=True)\n",
    "os.makedirs(test_images_dir, exist_ok=True)\n",
    "os.makedirs(test_labels_dir, exist_ok=True)"
   ]
  },
  {
   "cell_type": "code",
   "execution_count": null,
   "id": "5e50cb06-59f6-4eca-8174-68766e2d6c0a",
   "metadata": {},
   "outputs": [],
   "source": [
    "def save_images_and_labels_from_split(dataset_split, images_dir, labels_dir):\n",
    "    for i, example in enumerate(dataset_split):\n",
    "        try:\n",
    "            # Extract the image and label (mask)\n",
    "            image = example['image']\n",
    "            label = example['label']\n",
    "\n",
    "            # Ensure the image and label are PIL Image objects\n",
    "            if not isinstance(image, Image.Image):\n",
    "                image = Image.fromarray(np.array(image))\n",
    "            if not isinstance(label, Image.Image):\n",
    "                label = Image.fromarray(np.array(label))\n",
    "\n",
    "            # Create a consistent filename\n",
    "            filename = f'image_{i}'\n",
    "\n",
    "            # Save the image\n",
    "            image_path = os.path.join(images_dir, f'{filename}.png')\n",
    "            image.save(image_path)\n",
    "\n",
    "            # Save the label (mask)\n",
    "            label_path = os.path.join(labels_dir, f'{filename}.png')\n",
    "            label.save(label_path)\n",
    "\n",
    "        except Exception as e:\n",
    "            print(f\"Error saving example {i}: {e}\")"
   ]
  },
  {
   "cell_type": "code",
   "execution_count": null,
   "id": "4cd9e3c8-7209-414f-9ddb-85bad111a7b5",
   "metadata": {},
   "outputs": [],
   "source": [
    "# Save images and labels from the train split\n",
    "save_images_and_labels_from_split(ds['train'], train_images_dir, train_labels_dir)\n",
    "\n",
    "# Save images and labels from the test split\n",
    "save_images_and_labels_from_split(ds['test'], test_images_dir, test_labels_dir)\n",
    "\n",
    "print(f\"Train images saved to {train_images_dir}\")\n",
    "print(f\"Train labels saved to {train_labels_dir}\")\n",
    "print(f\"Test images saved to {test_images_dir}\")\n",
    "print(f\"Test labels saved to {test_labels_dir}\")"
   ]
  },
  {
   "cell_type": "code",
   "execution_count": null,
   "id": "99c3b10f-ec2e-4b4d-aa1b-ae4b43806583",
   "metadata": {},
   "outputs": [],
   "source": []
  }
 ],
 "metadata": {
  "kernelspec": {
   "display_name": "Python 3 (ipykernel)",
   "language": "python",
   "name": "python3"
  },
  "language_info": {
   "codemirror_mode": {
    "name": "ipython",
    "version": 3
   },
   "file_extension": ".py",
   "mimetype": "text/x-python",
   "name": "python",
   "nbconvert_exporter": "python",
   "pygments_lexer": "ipython3",
   "version": "3.11.5"
  }
 },
 "nbformat": 4,
 "nbformat_minor": 5
}
